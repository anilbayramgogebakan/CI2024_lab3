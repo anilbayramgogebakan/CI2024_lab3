{
 "cells": [
  {
   "cell_type": "markdown",
   "metadata": {
    "vscode": {
     "languageId": "plaintext"
    }
   },
   "source": [
    "Copyright **`(c)`** 2024 Giovanni Squillero `<giovanni.squillero@polito.it>`  \n",
    "[`https://github.com/squillero/computational-intelligence`](https://github.com/squillero/computational-intelligence)  \n",
    "Free under certain conditions — see the [`license`](https://github.com/squillero/computational-intelligence/blob/master/LICENSE.md) for details.  "
   ]
  },
  {
   "cell_type": "code",
   "execution_count": 1,
   "metadata": {},
   "outputs": [],
   "source": [
    "from collections import namedtuple\n",
    "from random import choice\n",
    "from tqdm.auto import tqdm\n",
    "import numpy as np\n",
    "import heapq"
   ]
  },
  {
   "cell_type": "code",
   "execution_count": 2,
   "metadata": {},
   "outputs": [],
   "source": [
    "\n",
    "action = namedtuple('Action', ['pos1', 'pos2'])"
   ]
  },
  {
   "cell_type": "code",
   "execution_count": 3,
   "metadata": {},
   "outputs": [],
   "source": [
    "def available_actions(state: np.ndarray) -> list['Action']:\n",
    "    x, y = [int(_[0]) for _ in np.where(state == 0)]\n",
    "    actions = list()\n",
    "    if x > 0:\n",
    "        actions.append(action((x, y), (x - 1, y)))\n",
    "    if x < PUZZLE_DIM - 1:\n",
    "        actions.append(action((x, y), (x + 1, y)))\n",
    "    if y > 0:\n",
    "        actions.append(action((x, y), (x, y - 1)))\n",
    "    if y < PUZZLE_DIM - 1:\n",
    "        actions.append(action((x, y), (x, y + 1)))\n",
    "    return actions\n",
    "\n",
    "\n",
    "\n",
    "def do_action(state: np.ndarray, action: 'Action') -> np.ndarray:\n",
    "    new_state = state.copy()\n",
    "    new_state[action.pos1], new_state[action.pos2] = new_state[action.pos2], new_state[action.pos1]\n",
    "    return new_state"
   ]
  },
  {
   "cell_type": "code",
   "execution_count": 4,
   "metadata": {},
   "outputs": [],
   "source": [
    "# final_goal = np.array([i for i in range(1, PUZZLE_DIM**2)] + [0]).reshape((PUZZLE_DIM, PUZZLE_DIM))\n",
    "\n",
    "def manhattan_dist(state):\n",
    "    manhattan_dist = 0\n",
    "    for row in range(len(state)):\n",
    "        for col in range(len(state[row])):\n",
    "            desired_value = row*len(state)+col+1\n",
    "            if desired_value == len(state)**2: # Last element should be zero\n",
    "                desired_value = 0\n",
    "            # print(f\"Coordinates: ({row},{col}) | Target: {final_goal[row][col]} | Value: {state[row][col]}\".format())\n",
    "            state_x, state_y = np.where(state==desired_value)\n",
    "            manhattan_dist += np.abs(state_x - row) + np.abs(state_y - col)\n",
    "    return manhattan_dist\n",
    "\n",
    "# print(f\"Manhattan Distance: {manhattan_dist(state)}\".format()) \n",
    "# print(\"final_goal: \\n\", final_goal)\n",
    "# print(\"state: \\n\", state)"
   ]
  },
  {
   "cell_type": "code",
   "execution_count": 5,
   "metadata": {},
   "outputs": [],
   "source": [
    "class PuzzleNode:\n",
    "    def __init__(self, state, g_cost=0, h_cost=0):\n",
    "        self.state = state\n",
    "        self.g_cost = g_cost\n",
    "        self.h_cost = h_cost\n",
    "        self.f_cost = g_cost + h_cost\n",
    "\n",
    "    def __lt__(self, other):\n",
    "        \"\"\"Define less-than for comparison based on f_cost.\"\"\"\n",
    "        return self.f_cost < other.f_cost\n",
    "\n",
    "    def __eq__(self, other):\n",
    "        \"\"\"Check equality based on the state, allowing comparison with np.array.\"\"\"\n",
    "        if isinstance(other, np.ndarray):\n",
    "            return np.all(self.state == other)\n",
    "        elif isinstance(other, PuzzleNode):\n",
    "            return self.state == other.state\n",
    "        return False  # Handle comparison with unsupported types\n",
    "\n",
    "    def __hash__(self):\n",
    "        \"\"\"Define a hash function for using the object in sets or as dict keys.\"\"\"\n",
    "        return hash(self.state)\n",
    "\n",
    "    def __repr__(self):\n",
    "        \"\"\"Readable representation of the node.\"\"\"\n",
    "        return (f\"PuzzleNode(state=\\n{self.state}, \\ng_cost={self.g_cost}, \"\n",
    "                f\"h_cost={self.h_cost}, f_cost={self.f_cost})\")\n",
    "        "
   ]
  },
  {
   "cell_type": "code",
   "execution_count": 6,
   "metadata": {},
   "outputs": [],
   "source": [
    "def Astar(state):\n",
    "    non_visited = []\n",
    "    visited = []\n",
    "    init_node = PuzzleNode(state, 0, manhattan_dist(state))\n",
    "    heapq.heappush(non_visited,init_node)\n",
    "    while True:\n",
    "        curr_min_node = heapq.heappop(non_visited)\n",
    "        possible_actions = available_actions(curr_min_node.state)\n",
    "        heapq.heappush(visited,curr_min_node)\n",
    "\n",
    "        for act_ind in range(len(possible_actions)):\n",
    "            new_state = do_action(curr_min_node.state, possible_actions[act_ind])\n",
    "\n",
    "            if new_state not in non_visited:\n",
    "                new_node = PuzzleNode(new_state, curr_min_node.g_cost+1, manhattan_dist(new_state))\n",
    "                heapq.heappush(non_visited,new_node)\n",
    "\n",
    "                if manhattan_dist(new_state) == 0:\n",
    "                    return new_node, visited, non_visited\n",
    "\n",
    "        \n",
    "\n",
    "\n",
    "    "
   ]
  },
  {
   "cell_type": "code",
   "execution_count": 7,
   "metadata": {},
   "outputs": [
    {
     "data": {
      "application/vnd.jupyter.widget-view+json": {
       "model_id": "65615deff4ef47649cbd7edce5142092",
       "version_major": 2,
       "version_minor": 0
      },
      "text/plain": [
       "Randomizing:   0%|          | 0/50 [00:00<?, ?it/s]"
      ]
     },
     "metadata": {},
     "output_type": "display_data"
    },
    {
     "data": {
      "text/plain": [
       "array([[1, 4, 2],\n",
       "       [7, 0, 3],\n",
       "       [5, 8, 6]])"
      ]
     },
     "execution_count": 7,
     "metadata": {},
     "output_type": "execute_result"
    }
   ],
   "source": [
    "PUZZLE_DIM = 3\n",
    "RANDOMIZE_STEPS = 50\n",
    "state = np.array([i for i in range(1, PUZZLE_DIM**2)] + [0]).reshape((PUZZLE_DIM, PUZZLE_DIM))\n",
    "for r in tqdm(range(RANDOMIZE_STEPS), desc='Randomizing'):\n",
    "    state = do_action(state, choice(available_actions(state)))\n",
    "state"
   ]
  },
  {
   "cell_type": "code",
   "execution_count": 8,
   "metadata": {},
   "outputs": [],
   "source": [
    "last_node, visited, non_visited = Astar(state)\n"
   ]
  },
  {
   "cell_type": "code",
   "execution_count": 9,
   "metadata": {},
   "outputs": [
    {
     "name": "stdout",
     "output_type": "stream",
     "text": [
      "Last node:  PuzzleNode(state=\n",
      "[[1 2 3]\n",
      " [4 5 6]\n",
      " [7 8 0]], \n",
      "g_cost=10, h_cost=[0], f_cost=[10])\n",
      "Cost (Total number of actions evaluated):  26\n",
      "Quality (Number of actions in the solution):  10\n",
      "Quality + Cost:  36\n"
     ]
    }
   ],
   "source": [
    "print(\"Last node: \", last_node)\n",
    "print(\"Cost (Total number of actions evaluated): \", len(visited))\n",
    "print(\"Quality (Number of actions in the solution): \", last_node.g_cost)\n",
    "print(\"Quality + Cost: \", str(last_node.g_cost + len(visited)))"
   ]
  },
  {
   "cell_type": "code",
   "execution_count": 10,
   "metadata": {},
   "outputs": [
    {
     "data": {
      "application/vnd.jupyter.widget-view+json": {
       "model_id": "75fa250588914fb18e084d54f871a589",
       "version_major": 2,
       "version_minor": 0
      },
      "text/plain": [
       "Randomizing:   0%|          | 0/50 [00:00<?, ?it/s]"
      ]
     },
     "metadata": {},
     "output_type": "display_data"
    },
    {
     "data": {
      "text/plain": [
       "array([[ 2,  5,  8,  3],\n",
       "       [ 1, 11,  6,  4],\n",
       "       [10, 13,  0, 12],\n",
       "       [ 9, 14,  7, 15]])"
      ]
     },
     "execution_count": 10,
     "metadata": {},
     "output_type": "execute_result"
    }
   ],
   "source": [
    "PUZZLE_DIM = 4\n",
    "RANDOMIZE_STEPS = 50\n",
    "state = np.array([i for i in range(1, PUZZLE_DIM**2)] + [0]).reshape((PUZZLE_DIM, PUZZLE_DIM))\n",
    "for r in tqdm(range(RANDOMIZE_STEPS), desc='Randomizing'):\n",
    "    state = do_action(state, choice(available_actions(state)))\n",
    "state"
   ]
  },
  {
   "cell_type": "code",
   "execution_count": 11,
   "metadata": {},
   "outputs": [],
   "source": [
    "last_node, visited, non_visited = Astar(state)"
   ]
  },
  {
   "cell_type": "code",
   "execution_count": 12,
   "metadata": {},
   "outputs": [
    {
     "name": "stdout",
     "output_type": "stream",
     "text": [
      "Last node:  PuzzleNode(state=\n",
      "[[ 1  2  3  4]\n",
      " [ 5  6  7  8]\n",
      " [ 9 10 11 12]\n",
      " [13 14 15  0]], \n",
      "g_cost=20, h_cost=[0], f_cost=[20])\n",
      "Cost (Total number of actions evaluated):  362\n",
      "Quality (Number of actions in the solution):  20\n",
      "Quality + Cost:  382\n"
     ]
    }
   ],
   "source": [
    "print(\"Last node: \", last_node)\n",
    "print(\"Cost (Total number of actions evaluated): \", len(visited))\n",
    "print(\"Quality (Number of actions in the solution): \", last_node.g_cost)\n",
    "print(\"Quality + Cost: \", str(last_node.g_cost + len(visited)))"
   ]
  },
  {
   "cell_type": "code",
   "execution_count": 13,
   "metadata": {},
   "outputs": [
    {
     "data": {
      "application/vnd.jupyter.widget-view+json": {
       "model_id": "6ebcb6cd015c42b8925e0e470e5f8431",
       "version_major": 2,
       "version_minor": 0
      },
      "text/plain": [
       "Randomizing:   0%|          | 0/50 [00:00<?, ?it/s]"
      ]
     },
     "metadata": {},
     "output_type": "display_data"
    },
    {
     "data": {
      "text/plain": [
       "array([[ 1,  2,  3,  4,  5],\n",
       "       [ 6, 12,  7,  9, 10],\n",
       "       [11,  8, 14, 17, 15],\n",
       "       [16, 22, 13,  0, 19],\n",
       "       [21, 23, 24, 18, 20]])"
      ]
     },
     "execution_count": 13,
     "metadata": {},
     "output_type": "execute_result"
    }
   ],
   "source": [
    "PUZZLE_DIM = 5\n",
    "RANDOMIZE_STEPS = 50\n",
    "state = np.array([i for i in range(1, PUZZLE_DIM**2)] + [0]).reshape((PUZZLE_DIM, PUZZLE_DIM))\n",
    "for r in tqdm(range(RANDOMIZE_STEPS), desc='Randomizing'):\n",
    "    state = do_action(state, choice(available_actions(state)))\n",
    "state"
   ]
  },
  {
   "cell_type": "code",
   "execution_count": 14,
   "metadata": {},
   "outputs": [],
   "source": [
    "last_node, visited, non_visited = Astar(state)"
   ]
  },
  {
   "cell_type": "code",
   "execution_count": 15,
   "metadata": {},
   "outputs": [
    {
     "name": "stdout",
     "output_type": "stream",
     "text": [
      "Last node:  PuzzleNode(state=\n",
      "[[ 1  2  3  4  5]\n",
      " [ 6  7  8  9 10]\n",
      " [11 12 13 14 15]\n",
      " [16 17 18 19 20]\n",
      " [21 22 23 24  0]], \n",
      "g_cost=16, h_cost=[0], f_cost=[16])\n",
      "Cost (Total number of actions evaluated):  190\n",
      "Quality (Number of actions in the solution):  16\n",
      "Quality + Cost:  206\n"
     ]
    }
   ],
   "source": [
    "print(\"Last node: \", last_node)\n",
    "print(\"Cost (Total number of actions evaluated): \", len(visited))\n",
    "print(\"Quality (Number of actions in the solution): \", last_node.g_cost)\n",
    "print(\"Quality + Cost: \", str(last_node.g_cost + len(visited)))"
   ]
  }
 ],
 "metadata": {
  "kernelspec": {
   "display_name": "ci",
   "language": "python",
   "name": "python3"
  },
  "language_info": {
   "codemirror_mode": {
    "name": "ipython",
    "version": 3
   },
   "file_extension": ".py",
   "mimetype": "text/x-python",
   "name": "python",
   "nbconvert_exporter": "python",
   "pygments_lexer": "ipython3",
   "version": "3.10.15"
  }
 },
 "nbformat": 4,
 "nbformat_minor": 2
}
